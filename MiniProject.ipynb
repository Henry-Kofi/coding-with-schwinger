{
 "cells": [
  {
   "cell_type": "code",
   "execution_count": 5,
   "id": "7663e092",
   "metadata": {},
   "outputs": [],
   "source": [
    "import numpy as np\n",
    "#import matplotlib.pyplot as plt"
   ]
  },
  {
   "cell_type": "code",
   "execution_count": 14,
   "id": "2c5290ec",
   "metadata": {},
   "outputs": [
    {
     "data": {
      "text/plain": [
       "[array([0, 1, 0, 1, 0, 1], dtype=int32),\n",
       " array([0, 1, 0, 1, 0, 1], dtype=int32),\n",
       " array([0, 1, 0, 1, 0, 1], dtype=int32),\n",
       " array([0, 1, 0, 1, 0, 1], dtype=int32),\n",
       " array([0, 1, 0, 1, 0, 1], dtype=int32),\n",
       " array([0, 1, 0, 1, 0, 1], dtype=int32)]"
      ]
     },
     "execution_count": 14,
     "metadata": {},
     "output_type": "execute_result"
    }
   ],
   "source": [
    "#chess board\n",
    "a = np.arange(1,37,1).reshape(6,6)\n",
    "b = [i%2 for i in a]\n",
    "b\n"
   ]
  }
 ],
 "metadata": {
  "kernelspec": {
   "display_name": "Python 3 (ipykernel)",
   "language": "python",
   "name": "python3"
  },
  "language_info": {
   "codemirror_mode": {
    "name": "ipython",
    "version": 3
   },
   "file_extension": ".py",
   "mimetype": "text/x-python",
   "name": "python",
   "nbconvert_exporter": "python",
   "pygments_lexer": "ipython3",
   "version": "3.11.3"
  }
 },
 "nbformat": 4,
 "nbformat_minor": 5
}
