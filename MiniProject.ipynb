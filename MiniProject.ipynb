{
 "cells": [
  {
   "cell_type": "code",
   "execution_count": null,
   "id": "7663e092",
   "metadata": {},
   "outputs": [],
   "source": [
    "\n",
    "x = [1,2,3,4,5,6,7,8,9]\n",
    "y = []\n",
    "i = 0\n",
    "while i < len(x):\n",
    "    y.append(x[i]**2 + 2*x[i] +1)\n",
    "    i=+1\n",
    "print(y)"
   ]
  }
 ],
 "metadata": {
  "kernelspec": {
   "display_name": "Python 3 (ipykernel)",
   "language": "python",
   "name": "python3"
  }
 },
 "nbformat": 4,
 "nbformat_minor": 5
}
