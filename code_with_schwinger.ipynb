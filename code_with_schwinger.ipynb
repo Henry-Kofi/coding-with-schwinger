{
 "cells": [
  {
   "cell_type": "code",
   "execution_count": 1,
   "id": "324d98b6",
   "metadata": {},
   "outputs": [
    {
     "data": {
      "text/plain": [
       "3"
      ]
     },
     "execution_count": 1,
     "metadata": {},
     "output_type": "execute_result"
    }
   ],
   "source": [
    "7//2#quotient"
   ]
  },
  {
   "cell_type": "code",
   "execution_count": 2,
   "id": "37a88633",
   "metadata": {},
   "outputs": [
    {
     "data": {
      "text/plain": [
       "3.0"
      ]
     },
     "execution_count": 2,
     "metadata": {},
     "output_type": "execute_result"
    }
   ],
   "source": [
    "#complex numbers   \n",
    "##python uses j  as imaginary part \n",
    "#2 +3j\n",
    "\n",
    "#2 + 3j * 1j\n",
    "\n",
    "#(2 + 5j).conjugate()  # conjugating complex numbers\n",
    "#(2+3j).real           #outputting real part of complex numbers\n",
    "(2+3j).imag            #outputtting imaginary part of complex numbers"
   ]
  },
  {
   "cell_type": "code",
   "execution_count": 3,
   "id": "c79d1c3a",
   "metadata": {},
   "outputs": [
    {
     "name": "stdout",
     "output_type": "stream",
     "text": [
      "50.285714285714285\n"
     ]
    }
   ],
   "source": [
    "pi = 22/7\n",
    "radius = 4\n",
    "\n",
    "Area = pi* radius**2\n",
    "print(Area)"
   ]
  },
  {
   "cell_type": "code",
   "execution_count": 4,
   "id": "b14aa2a9",
   "metadata": {},
   "outputs": [],
   "source": [
    "#print? --------->  use ? to display how commands are used"
   ]
  },
  {
   "cell_type": "code",
   "execution_count": 5,
   "id": "eaa7149e",
   "metadata": {},
   "outputs": [
    {
     "name": "stdout",
     "output_type": "stream",
     "text": [
      "['Area', 'In', 'Out', '_', '_1', '_2', '__', '___', '__builtin__', '__builtins__', '__doc__', '__loader__', '__name__', '__package__', '__spec__', '_dh', '_i', '_i1', '_i2', '_i3', '_i4', '_i5', '_ih', '_ii', '_iii', '_oh', 'exit', 'get_ipython', 'open', 'pi', 'quit', 'radius']\n"
     ]
    }
   ],
   "source": [
    "print(dir())"
   ]
  },
  {
   "cell_type": "code",
   "execution_count": 6,
   "id": "a2560adc",
   "metadata": {},
   "outputs": [
    {
     "data": {
      "text/plain": [
       "['Area',\n",
       " 'In',\n",
       " 'Out',\n",
       " '_',\n",
       " '_1',\n",
       " '_2',\n",
       " '__',\n",
       " '___',\n",
       " '__builtin__',\n",
       " '__builtins__',\n",
       " '__doc__',\n",
       " '__loader__',\n",
       " '__name__',\n",
       " '__package__',\n",
       " '__spec__',\n",
       " '_dh',\n",
       " '_i',\n",
       " '_i1',\n",
       " '_i2',\n",
       " '_i3',\n",
       " '_i4',\n",
       " '_i5',\n",
       " '_i6',\n",
       " '_ih',\n",
       " '_ii',\n",
       " '_iii',\n",
       " '_oh',\n",
       " 'exit',\n",
       " 'get_ipython',\n",
       " 'open',\n",
       " 'pi',\n",
       " 'quit',\n",
       " 'radius']"
      ]
     },
     "execution_count": 6,
     "metadata": {},
     "output_type": "execute_result"
    }
   ],
   "source": [
    "dir()"
   ]
  },
  {
   "cell_type": "raw",
   "id": "4d06492b",
   "metadata": {},
   "source": [
    "Python functions\n"
   ]
  },
  {
   "cell_type": "code",
   "execution_count": 7,
   "id": "339f02e6",
   "metadata": {},
   "outputs": [
    {
     "name": "stdout",
     "output_type": "stream",
     "text": [
      "5\n"
     ]
    }
   ],
   "source": [
    "#function to add two numbers\n",
    "\n",
    "def add(a,b):\n",
    "    x = a + b\n",
    "    return x\n",
    "print(add(2,3))"
   ]
  },
  {
   "cell_type": "code",
   "execution_count": 8,
   "id": "e6d6cede",
   "metadata": {},
   "outputs": [
    {
     "name": "stdout",
     "output_type": "stream",
     "text": [
      "-1\n"
     ]
    }
   ],
   "source": [
    "#another way\n",
    "def subtract(c,d):\n",
    "    return c - d\n",
    "print(subtract(2,3))"
   ]
  },
  {
   "cell_type": "code",
   "execution_count": 9,
   "id": "3b1abc6f",
   "metadata": {},
   "outputs": [
    {
     "name": "stdout",
     "output_type": "stream",
     "text": [
      "hello world\n"
     ]
    }
   ],
   "source": [
    "#empty parameters\n",
    "def hello():\n",
    "    return 'hello world'\n",
    "print(hello())"
   ]
  },
  {
   "cell_type": "code",
   "execution_count": 10,
   "id": "f0b3694b",
   "metadata": {},
   "outputs": [
    {
     "ename": "KeyboardInterrupt",
     "evalue": "Interrupted by user",
     "output_type": "error",
     "traceback": [
      "\u001b[1;31m---------------------------------------------------------------------------\u001b[0m",
      "\u001b[1;31mKeyboardInterrupt\u001b[0m                         Traceback (most recent call last)",
      "Cell \u001b[1;32mIn[10], line 4\u001b[0m\n\u001b[0;32m      1\u001b[0m \u001b[38;5;66;03m#A function for calculating the log of any number\u001b[39;00m\n\u001b[0;32m      3\u001b[0m \u001b[38;5;28;01mimport\u001b[39;00m \u001b[38;5;21;01mnumpy\u001b[39;00m \u001b[38;5;28;01mas\u001b[39;00m \u001b[38;5;21;01mnp\u001b[39;00m\n\u001b[1;32m----> 4\u001b[0m base \u001b[38;5;241m=\u001b[39m \u001b[38;5;28mint\u001b[39m(\u001b[38;5;28;43minput\u001b[39;49m\u001b[43m(\u001b[49m\u001b[38;5;124;43m'\u001b[39;49m\u001b[38;5;124;43mEnter base: \u001b[39;49m\u001b[38;5;124;43m'\u001b[39;49m\u001b[43m,\u001b[49m\u001b[43m \u001b[49m\u001b[43m)\u001b[49m)\n\u001b[0;32m      5\u001b[0m number \u001b[38;5;241m=\u001b[39m \u001b[38;5;28mint\u001b[39m(\u001b[38;5;28minput\u001b[39m(\u001b[38;5;124m'\u001b[39m\u001b[38;5;124mEnter number: \u001b[39m\u001b[38;5;124m'\u001b[39m,))\n\u001b[0;32m      6\u001b[0m \u001b[38;5;28;01mdef\u001b[39;00m \u001b[38;5;21mlog\u001b[39m(base,number):\n",
      "File \u001b[1;32m~\\anaconda3\\lib\\site-packages\\ipykernel\\kernelbase.py:1175\u001b[0m, in \u001b[0;36mKernel.raw_input\u001b[1;34m(self, prompt)\u001b[0m\n\u001b[0;32m   1171\u001b[0m \u001b[38;5;28;01mif\u001b[39;00m \u001b[38;5;129;01mnot\u001b[39;00m \u001b[38;5;28mself\u001b[39m\u001b[38;5;241m.\u001b[39m_allow_stdin:\n\u001b[0;32m   1172\u001b[0m     \u001b[38;5;28;01mraise\u001b[39;00m StdinNotImplementedError(\n\u001b[0;32m   1173\u001b[0m         \u001b[38;5;124m\"\u001b[39m\u001b[38;5;124mraw_input was called, but this frontend does not support input requests.\u001b[39m\u001b[38;5;124m\"\u001b[39m\n\u001b[0;32m   1174\u001b[0m     )\n\u001b[1;32m-> 1175\u001b[0m \u001b[38;5;28;01mreturn\u001b[39;00m \u001b[38;5;28;43mself\u001b[39;49m\u001b[38;5;241;43m.\u001b[39;49m\u001b[43m_input_request\u001b[49m\u001b[43m(\u001b[49m\n\u001b[0;32m   1176\u001b[0m \u001b[43m    \u001b[49m\u001b[38;5;28;43mstr\u001b[39;49m\u001b[43m(\u001b[49m\u001b[43mprompt\u001b[49m\u001b[43m)\u001b[49m\u001b[43m,\u001b[49m\n\u001b[0;32m   1177\u001b[0m \u001b[43m    \u001b[49m\u001b[38;5;28;43mself\u001b[39;49m\u001b[38;5;241;43m.\u001b[39;49m\u001b[43m_parent_ident\u001b[49m\u001b[43m[\u001b[49m\u001b[38;5;124;43m\"\u001b[39;49m\u001b[38;5;124;43mshell\u001b[39;49m\u001b[38;5;124;43m\"\u001b[39;49m\u001b[43m]\u001b[49m\u001b[43m,\u001b[49m\n\u001b[0;32m   1178\u001b[0m \u001b[43m    \u001b[49m\u001b[38;5;28;43mself\u001b[39;49m\u001b[38;5;241;43m.\u001b[39;49m\u001b[43mget_parent\u001b[49m\u001b[43m(\u001b[49m\u001b[38;5;124;43m\"\u001b[39;49m\u001b[38;5;124;43mshell\u001b[39;49m\u001b[38;5;124;43m\"\u001b[39;49m\u001b[43m)\u001b[49m\u001b[43m,\u001b[49m\n\u001b[0;32m   1179\u001b[0m \u001b[43m    \u001b[49m\u001b[43mpassword\u001b[49m\u001b[38;5;241;43m=\u001b[39;49m\u001b[38;5;28;43;01mFalse\u001b[39;49;00m\u001b[43m,\u001b[49m\n\u001b[0;32m   1180\u001b[0m \u001b[43m\u001b[49m\u001b[43m)\u001b[49m\n",
      "File \u001b[1;32m~\\anaconda3\\lib\\site-packages\\ipykernel\\kernelbase.py:1217\u001b[0m, in \u001b[0;36mKernel._input_request\u001b[1;34m(self, prompt, ident, parent, password)\u001b[0m\n\u001b[0;32m   1214\u001b[0m             \u001b[38;5;28;01mbreak\u001b[39;00m\n\u001b[0;32m   1215\u001b[0m \u001b[38;5;28;01mexcept\u001b[39;00m \u001b[38;5;167;01mKeyboardInterrupt\u001b[39;00m:\n\u001b[0;32m   1216\u001b[0m     \u001b[38;5;66;03m# re-raise KeyboardInterrupt, to truncate traceback\u001b[39;00m\n\u001b[1;32m-> 1217\u001b[0m     \u001b[38;5;28;01mraise\u001b[39;00m \u001b[38;5;167;01mKeyboardInterrupt\u001b[39;00m(\u001b[38;5;124m\"\u001b[39m\u001b[38;5;124mInterrupted by user\u001b[39m\u001b[38;5;124m\"\u001b[39m) \u001b[38;5;28;01mfrom\u001b[39;00m \u001b[38;5;28mNone\u001b[39m\n\u001b[0;32m   1218\u001b[0m \u001b[38;5;28;01mexcept\u001b[39;00m \u001b[38;5;167;01mException\u001b[39;00m:\n\u001b[0;32m   1219\u001b[0m     \u001b[38;5;28mself\u001b[39m\u001b[38;5;241m.\u001b[39mlog\u001b[38;5;241m.\u001b[39mwarning(\u001b[38;5;124m\"\u001b[39m\u001b[38;5;124mInvalid Message:\u001b[39m\u001b[38;5;124m\"\u001b[39m, exc_info\u001b[38;5;241m=\u001b[39m\u001b[38;5;28;01mTrue\u001b[39;00m)\n",
      "\u001b[1;31mKeyboardInterrupt\u001b[0m: Interrupted by user"
     ]
    }
   ],
   "source": [
    "#A function for calculating the log of any number\n",
    "\n",
    "import numpy as np\n",
    "base = int(input('Enter base: ', ))\n",
    "number = int(input('Enter number: ',))\n",
    "def log(base,number):\n",
    "    return (np.log(number))/(np.log(base))\n",
    "print('log',  number ,'base' ,base ,'is', np.round(log(base,number),3))\n"
   ]
  },
  {
   "cell_type": "raw",
   "id": "5d9fa474",
   "metadata": {},
   "source": [
    "modules"
   ]
  },
  {
   "cell_type": "code",
   "execution_count": null,
   "id": "bdb8b29a",
   "metadata": {},
   "outputs": [],
   "source": [
    "import math"
   ]
  },
  {
   "cell_type": "code",
   "execution_count": null,
   "id": "ccd27a7f",
   "metadata": {},
   "outputs": [],
   "source": [
    "print(dir(math))"
   ]
  },
  {
   "cell_type": "code",
   "execution_count": null,
   "id": "fbfa4b17",
   "metadata": {},
   "outputs": [],
   "source": [
    "math.cos(90)"
   ]
  },
  {
   "cell_type": "code",
   "execution_count": null,
   "id": "7e399164",
   "metadata": {},
   "outputs": [],
   "source": [
    "import cmath\n",
    "print(dir(cmath))"
   ]
  },
  {
   "cell_type": "code",
   "execution_count": null,
   "id": "648771e6",
   "metadata": {},
   "outputs": [],
   "source": [
    "a = cmath.sqrt(-1)\n",
    "b = math.sqrt(1)"
   ]
  },
  {
   "cell_type": "code",
   "execution_count": null,
   "id": "a878a775",
   "metadata": {},
   "outputs": [],
   "source": [
    "b"
   ]
  },
  {
   "cell_type": "raw",
   "id": "023fd5a6",
   "metadata": {},
   "source": [
    "strings"
   ]
  },
  {
   "cell_type": "code",
   "execution_count": null,
   "id": "7c5de95e",
   "metadata": {},
   "outputs": [],
   "source": [
    "a = 'a python string'\n",
    "b = \"another python string\"\n",
    "c = \"he says he's coming\"\n",
    "d = 'he said \"hi\"'\n",
    "e = '''this is supposed to be a python          \n",
    "    multiline sting'''          "
   ]
  },
  {
   "cell_type": "code",
   "execution_count": null,
   "id": "3cb98d8c",
   "metadata": {},
   "outputs": [],
   "source": [
    "e"
   ]
  },
  {
   "cell_type": "markdown",
   "id": "76e1f35c",
   "metadata": {},
   "source": [
    "Indexing and slicing"
   ]
  },
  {
   "cell_type": "markdown",
   "id": "92eca00d",
   "metadata": {},
   "source": [
    "space counts as a character\n",
    "\n",
    "and an idex always starts from 0\n",
    "\n",
    "the last letter has index -1\n",
    "\n",
    "strings are immutable"
   ]
  },
  {
   "cell_type": "code",
   "execution_count": null,
   "id": "f6d14fc8",
   "metadata": {},
   "outputs": [],
   "source": [
    "c[::2]"
   ]
  },
  {
   "cell_type": "markdown",
   "id": "b1815abb",
   "metadata": {},
   "source": [
    "To slice a string or sequence a colon is used to seperate the beginning and the end of the string\n",
    "\n",
    "thus c[start:stop] from start to end\n",
    "\n",
    "c[start:stop:step] from start to end with step"
   ]
  },
  {
   "cell_type": "code",
   "execution_count": null,
   "id": "fb3015db",
   "metadata": {},
   "outputs": [],
   "source": [
    "c[3:7]"
   ]
  },
  {
   "cell_type": "code",
   "execution_count": null,
   "id": "2b7c9652",
   "metadata": {},
   "outputs": [],
   "source": [
    "c[:7:2]"
   ]
  },
  {
   "cell_type": "code",
   "execution_count": null,
   "id": "483dba0c",
   "metadata": {},
   "outputs": [],
   "source": [
    "c[::-1]   #reversing"
   ]
  },
  {
   "cell_type": "code",
   "execution_count": null,
   "id": "ec430ec8",
   "metadata": {},
   "outputs": [],
   "source": [
    "a + ' ' +b"
   ]
  },
  {
   "cell_type": "code",
   "execution_count": null,
   "id": "21d9189b",
   "metadata": {},
   "outputs": [],
   "source": [
    "(a+' ')*2 "
   ]
  },
  {
   "cell_type": "markdown",
   "id": "07130fbc",
   "metadata": {},
   "source": [
    "String methods\n",
    "\n",
    "capitalize()    -- capitalize the first index\n",
    "\n",
    "upper()         -- capitalizes every index\n",
    "\n",
    "lower()         -- lower cases\n",
    "\n",
    "title()         -- title format\n",
    "\n",
    "find()          --finds letters from beginning of index\n",
    "\n",
    "rfind()         --finds from end\n",
    "\n",
    "index()         --finds the index of a letter from beginning\n",
    "\n",
    "rindex()        --finds the index from end\n",
    "\n",
    "split()         --splits strings \n",
    "\n",
    "join()          -- joins strings\n",
    "\n",
    "replace()       -- replaces\n",
    "\n",
    "isdigit         --determines whether elements are digits"
   ]
  },
  {
   "cell_type": "code",
   "execution_count": null,
   "id": "46817b3c",
   "metadata": {},
   "outputs": [],
   "source": [
    "c.split(\" \")"
   ]
  },
  {
   "cell_type": "code",
   "execution_count": null,
   "id": "78b779d3",
   "metadata": {},
   "outputs": [],
   "source": [
    "\"\".join(c)"
   ]
  },
  {
   "cell_type": "code",
   "execution_count": null,
   "id": "f227be67",
   "metadata": {},
   "outputs": [],
   "source": [
    "c.replace('h','H',-1)"
   ]
  },
  {
   "cell_type": "code",
   "execution_count": null,
   "id": "b0cebe10",
   "metadata": {},
   "outputs": [],
   "source": [
    "c[:3] + 'shouts' +c[7:]"
   ]
  },
  {
   "cell_type": "markdown",
   "id": "acbab4f4",
   "metadata": {},
   "source": [
    "Lists And tuples"
   ]
  },
  {
   "cell_type": "markdown",
   "id": "173cfa8c",
   "metadata": {},
   "source": [
    "both are sequences\n",
    "\n",
    "tuples  --->  ()    -->immutable\n",
    "\n",
    "\n",
    "list    --->  []    -->mutable"
   ]
  },
  {
   "cell_type": "code",
   "execution_count": null,
   "id": "8642e3a0",
   "metadata": {},
   "outputs": [],
   "source": [
    "a = [23,2.5,6,'python',[1,2,3]]"
   ]
  },
  {
   "cell_type": "code",
   "execution_count": null,
   "id": "b3cdc114",
   "metadata": {},
   "outputs": [],
   "source": [
    "b= (23,2.5,6,'python',[1,2,3])"
   ]
  },
  {
   "cell_type": "code",
   "execution_count": null,
   "id": "6f8d4826",
   "metadata": {},
   "outputs": [],
   "source": [
    "a[2]= 2 +  3j"
   ]
  },
  {
   "cell_type": "code",
   "execution_count": null,
   "id": "7a2fa71d",
   "metadata": {},
   "outputs": [],
   "source": [
    "a"
   ]
  },
  {
   "cell_type": "code",
   "execution_count": null,
   "id": "639a2b3d",
   "metadata": {},
   "outputs": [],
   "source": [
    "a[3][2]  #sublist"
   ]
  },
  {
   "cell_type": "code",
   "execution_count": null,
   "id": "9275059b",
   "metadata": {},
   "outputs": [],
   "source": [
    "a[-1][1:3]"
   ]
  },
  {
   "cell_type": "code",
   "execution_count": null,
   "id": "ce913bfe",
   "metadata": {},
   "outputs": [],
   "source": [
    "b[3][2]"
   ]
  },
  {
   "cell_type": "code",
   "execution_count": null,
   "id": "f2b97f69",
   "metadata": {},
   "outputs": [],
   "source": [
    "b = a.copy()  #create duplicates\n"
   ]
  },
  {
   "cell_type": "code",
   "execution_count": null,
   "id": "7142bf36",
   "metadata": {},
   "outputs": [],
   "source": [
    "a.append(100)\n",
    "a"
   ]
  },
  {
   "cell_type": "code",
   "execution_count": null,
   "id": "aa31f302",
   "metadata": {},
   "outputs": [],
   "source": [
    "a.append(['a','b','c'])\n",
    "print(a)"
   ]
  },
  {
   "cell_type": "code",
   "execution_count": null,
   "id": "34296a7b",
   "metadata": {},
   "outputs": [],
   "source": [
    "b.extend(['a','b'])\n",
    "b"
   ]
  },
  {
   "cell_type": "code",
   "execution_count": null,
   "id": "b05e56a1",
   "metadata": {},
   "outputs": [],
   "source": [
    "a.insert(2,0.02)\n",
    "a"
   ]
  },
  {
   "cell_type": "code",
   "execution_count": null,
   "id": "3062bd9b",
   "metadata": {},
   "outputs": [],
   "source": [
    "a.remove(100)\n",
    "a"
   ]
  },
  {
   "cell_type": "code",
   "execution_count": null,
   "id": "76caf8d5",
   "metadata": {},
   "outputs": [],
   "source": [
    "del a[3]"
   ]
  },
  {
   "cell_type": "code",
   "execution_count": null,
   "id": "3f50df22",
   "metadata": {},
   "outputs": [],
   "source": [
    "a"
   ]
  },
  {
   "cell_type": "markdown",
   "id": "a9a41ef1",
   "metadata": {},
   "source": [
    "Python comparison  lec8"
   ]
  },
  {
   "cell_type": "code",
   "execution_count": null,
   "id": "2ba7fd64",
   "metadata": {
    "slideshow": {
     "slide_type": "notes"
    }
   },
   "outputs": [],
   "source": [
    "a = 5\n",
    "b = -1\n",
    "c = 2\n",
    "d = 13"
   ]
  },
  {
   "cell_type": "code",
   "execution_count": null,
   "id": "fe5e115f",
   "metadata": {},
   "outputs": [],
   "source": [
    "#a < b\n",
    "#a == b or a> b\n",
    "not b > 1 and c > 1"
   ]
  },
  {
   "cell_type": "code",
   "execution_count": null,
   "id": "9ca36b7c",
   "metadata": {},
   "outputs": [],
   "source": [
    "'a' in 'this is a python string'"
   ]
  },
  {
   "cell_type": "markdown",
   "id": "d6ddbeda",
   "metadata": {},
   "source": [
    "# python blocks"
   ]
  },
  {
   "cell_type": "markdown",
   "id": "699aed6c",
   "metadata": {},
   "source": [
    "If-else condition"
   ]
  },
  {
   "cell_type": "code",
   "execution_count": null,
   "id": "c7d515b3",
   "metadata": {},
   "outputs": [],
   "source": [
    "a = 3\n",
    "if a > 4:\n",
    "    print(str(a) + ' is greater than 4')\n",
    "else:\n",
    "    print(a, ' is less than 4')\n",
    "    "
   ]
  },
  {
   "cell_type": "code",
   "execution_count": null,
   "id": "e8a6a400",
   "metadata": {},
   "outputs": [],
   "source": [
    "if a > 4:\n",
    "    a +=4\n",
    "else:\n",
    "    a*=-1\n",
    "print(a)"
   ]
  },
  {
   "cell_type": "code",
   "execution_count": null,
   "id": "490930d3",
   "metadata": {},
   "outputs": [],
   "source": [
    "a = 3\n",
    "if a > 4:\n",
    "    a += 4\n",
    "else:\n",
    "    if a > 2:\n",
    "        a *= 8\n",
    "    else:\n",
    "        a *= -1\n",
    "print(a)"
   ]
  },
  {
   "cell_type": "code",
   "execution_count": null,
   "id": "71d7803b",
   "metadata": {},
   "outputs": [],
   "source": [
    "a = int(input('Enter score: '))\n",
    "if a >= 80:\n",
    "    print('A')\n",
    "elif a >= 75:\n",
    "    print('B+')\n",
    "elif a >= 70:\n",
    "    print('B')\n",
    "elif a > 65:\n",
    "    print('C+')\n",
    "elif a >= 60:\n",
    "    print('c')\n",
    "elif a >= 50:\n",
    "    print('E')\n",
    "elif a < 50:\n",
    "    print('F')"
   ]
  },
  {
   "cell_type": "code",
   "execution_count": null,
   "id": "23d76231",
   "metadata": {},
   "outputs": [],
   "source": [
    "a =int(input(\"Enter another Score: \"))\n",
    "if   a <=50:\n",
    "    print('F')\n",
    "elif 60>=a>=50:\n",
    "    print('E')\n",
    "elif 65>=a>=60:\n",
    "    print('C')\n",
    "elif 70>= a >= 65:\n",
    "    print('C+')\n",
    "elif 75 >= a >= 70:\n",
    "    print('B')\n",
    "elif 85 >= a >= 75:\n",
    "    print('B+')\n",
    "elif a>=85:\n",
    "    print('A')\n",
    "    "
   ]
  },
  {
   "cell_type": "raw",
   "id": "6020343f",
   "metadata": {},
   "source": [
    "for loop"
   ]
  },
  {
   "cell_type": "code",
   "execution_count": 24,
   "id": "67b784ff",
   "metadata": {},
   "outputs": [
    {
     "name": "stdout",
     "output_type": "stream",
     "text": [
      "1 2 3 4 5 6 7 8 9 "
     ]
    }
   ],
   "source": [
    "import numpy as np\n",
    "x = np.arange(1,10,1)\n",
    "for i in x:\n",
    "    print(i, end = \" \")"
   ]
  },
  {
   "cell_type": "markdown",
   "id": "07870b31",
   "metadata": {},
   "source": [
    "$y = x^2 + 2x + 1$"
   ]
  },
  {
   "cell_type": "code",
   "execution_count": 25,
   "id": "18e936fe",
   "metadata": {
    "scrolled": true
   },
   "outputs": [
    {
     "name": "stdout",
     "output_type": "stream",
     "text": [
      "[4, 9, 16, 25, 36, 49, 64, 81, 100]\n"
     ]
    }
   ],
   "source": [
    "y = []\n",
    "for i in x:\n",
    "    y.append(i**2 + 2*i +1)\n",
    "print(y)"
   ]
  },
  {
   "cell_type": "code",
   "execution_count": 26,
   "id": "d5f39387",
   "metadata": {
    "scrolled": true
   },
   "outputs": [
    {
     "name": "stdout",
     "output_type": "stream",
     "text": [
      "[4]\n",
      "[4, 9]\n",
      "[4, 9, 16]\n",
      "[4, 9, 16, 25]\n",
      "[4, 9, 16, 25, 36]\n",
      "[4, 9, 16, 25, 36, 49]\n",
      "[4, 9, 16, 25, 36, 49, 64]\n",
      "[4, 9, 16, 25, 36, 49, 64, 81]\n",
      "[4, 9, 16, 25, 36, 49, 64, 81, 100]\n"
     ]
    }
   ],
   "source": [
    "y = []\n",
    "for i in x:\n",
    "    y.append(i**2 + 2*i +1)\n",
    "    print(y)                        #indentation caused this"
   ]
  },
  {
   "cell_type": "markdown",
   "id": "3d9c9bea",
   "metadata": {},
   "source": [
    "while loop"
   ]
  },
  {
   "cell_type": "code",
   "execution_count": 2,
   "id": "7c652614",
   "metadata": {
    "scrolled": false
   },
   "outputs": [
    {
     "name": "stdout",
     "output_type": "stream",
     "text": [
      "(0, 1)\n",
      "(1, 2)\n",
      "(2, 3)\n",
      "(3, 4)\n",
      "(4, 5)\n",
      "(5, 6)\n",
      "(6, 7)\n",
      "(7, 8)\n",
      "(8, 9)\n"
     ]
    }
   ],
   "source": [
    "import numpy as np\n",
    "x = np.arange(1,10,1)\n",
    "i = 0\n",
    "while i < len(x):\n",
    "    print((i,x[i]))\n",
    "    i +=1"
   ]
  },
  {
   "cell_type": "code",
   "execution_count": 1,
   "id": "a0404b61",
   "metadata": {},
   "outputs": [
    {
     "name": "stdout",
     "output_type": "stream",
     "text": [
      "[4, 9, 16, 25, 36, 49, 64, 81, 100]\n"
     ]
    }
   ],
   "source": [
    "\n",
    "x = [1,2,3,4,5,6,7,8,9]\n",
    "y = []\n",
    "i = 0\n",
    "while i < len(x):\n",
    "    y.append(x[i]**2 + 2*x[i] +1)\n",
    "    i+=1\n",
    "print(y)"
   ]
  },
  {
   "cell_type": "markdown",
   "id": "fb45de79",
   "metadata": {},
   "source": [
    "break and continue statement"
   ]
  },
  {
   "cell_type": "code",
   "execution_count": 10,
   "id": "352c54cf",
   "metadata": {},
   "outputs": [
    {
     "name": "stdout",
     "output_type": "stream",
     "text": [
      "[0, 9, 0, 25, 0, 49, 0, 81, 0]\n"
     ]
    }
   ],
   "source": [
    "x = [1,2,3,4,5,6,7,8,9]\n",
    "y = [0]*len(x)\n",
    "i = 0\n",
    "while i < len(x):\n",
    "    if i % 2 == 0:\n",
    "        i+=1\n",
    "        continue\n",
    "    else:\n",
    "        y[i] = x[i]**2 + 2*x[i] + 1\n",
    "        i+=1\n",
    "print(y)\n",
    "        "
   ]
  },
  {
   "cell_type": "code",
   "execution_count": 15,
   "id": "2f44ef5e",
   "metadata": {},
   "outputs": [
    {
     "name": "stdout",
     "output_type": "stream",
     "text": [
      "[0, 9, 0, 25, 0, 49, 0, 81, 0]\n"
     ]
    }
   ],
   "source": [
    "x = [1,2,3,4,5,6,7,8,9]\n",
    "y = [0]*len(x)\n",
    "i = 0\n",
    "while i < len(x):\n",
    "    i+=1\n",
    "    if (i-1) % 2 == 0:\n",
    "        continue\n",
    "    else:\n",
    "        y[i-1] = x[i-1]**2 + 2*x[i-1] + 1\n",
    "        \n",
    "print(y)"
   ]
  },
  {
   "cell_type": "code",
   "execution_count": 33,
   "id": "f9ea1929",
   "metadata": {},
   "outputs": [
    {
     "name": "stdout",
     "output_type": "stream",
     "text": [
      "[4, 9, 16, 25, 36, 0, 0, 0, 0]\n"
     ]
    }
   ],
   "source": [
    "x = [1,2,3,4,5,6,7,8,9]\n",
    "y = [0]*len(x)\n",
    "i = 0\n",
    "while i < len(x):\n",
    "    i+=1\n",
    "    if (i-1)  == 5:\n",
    "        break\n",
    "    else:\n",
    "        y[i-1] = x[i-1]**2 + 2*x[i-1] + 1\n",
    "        \n",
    "print(y)"
   ]
  },
  {
   "cell_type": "code",
   "execution_count": 36,
   "id": "3089aa96",
   "metadata": {},
   "outputs": [
    {
     "name": "stdout",
     "output_type": "stream",
     "text": [
      "[9, 25, 49, 81, 121]\n"
     ]
    }
   ],
   "source": [
    "x = [1,2,3,4,5,6,7,8,9]\n",
    "y = []\n",
    "for i in x:\n",
    "    \n",
    "    if i%2 == 0:\n",
    "        i+=1\n",
    "        continue\n",
    "    else:\n",
    "        i+=1\n",
    "        y.append(i**2 + 2*i + 1)\n",
    "print(y)\n",
    "        \n",
    "    "
   ]
  },
  {
   "cell_type": "markdown",
   "id": "94307a93",
   "metadata": {},
   "source": [
    "Dictionaries"
   ]
  },
  {
   "cell_type": "code",
   "execution_count": 48,
   "id": "1784c507",
   "metadata": {},
   "outputs": [
    {
     "data": {
      "text/plain": [
       "dict_keys(['MTN', 'Voda', 'AirtelTigo', 'Kasapa'])"
      ]
     },
     "execution_count": 48,
     "metadata": {},
     "output_type": "execute_result"
    }
   ],
   "source": [
    "a = {'MTN':'124','Voda':'020','AirtelTigo':'027'}\n",
    "a['Kasapa'] = '023'\n",
    "a.keys()"
   ]
  },
  {
   "cell_type": "code",
   "execution_count": 51,
   "id": "9bf7e5b9",
   "metadata": {},
   "outputs": [],
   "source": [
    "grades = {0:'F',45:'E',50:'D',55:'D+',60:'C',65:'C+',70:'B',75:'B+',80:'A'}"
   ]
  },
  {
   "cell_type": "code",
   "execution_count": 62,
   "id": "108f023e",
   "metadata": {},
   "outputs": [],
   "source": [
    "grades2 = {3,4,6,13,25,1,3,2}"
   ]
  },
  {
   "cell_type": "code",
   "execution_count": 69,
   "id": "ac36743b",
   "metadata": {},
   "outputs": [
    {
     "data": {
      "text/plain": [
       "False"
      ]
     },
     "execution_count": 69,
     "metadata": {},
     "output_type": "execute_result"
    }
   ],
   "source": [
    "grades2.isdisjoint({1,2,3})"
   ]
  },
  {
   "cell_type": "code",
   "execution_count": 77,
   "id": "72b8b611",
   "metadata": {},
   "outputs": [
    {
     "data": {
      "text/plain": [
       "True"
      ]
     },
     "execution_count": 77,
     "metadata": {},
     "output_type": "execute_result"
    }
   ],
   "source": [
    "a = [0,45,50,55,60,65,70,75,80]\n",
    "b = ['F','E','D','D+','C','C+','B','B+','A']\n",
    "len(b) == len(a)"
   ]
  },
  {
   "cell_type": "code",
   "execution_count": 80,
   "id": "62537d07",
   "metadata": {},
   "outputs": [
    {
     "data": {
      "text/plain": [
       "{0: 'F',\n",
       " 45: 'E',\n",
       " 50: 'D',\n",
       " 55: 'D+',\n",
       " 60: 'C',\n",
       " 65: 'C+',\n",
       " 70: 'B',\n",
       " 75: 'B+',\n",
       " 80: 'A'}"
      ]
     },
     "execution_count": 80,
     "metadata": {},
     "output_type": "execute_result"
    }
   ],
   "source": [
    "dict(list(zip(a,b)))     #joining componentwise to form dictionaries"
   ]
  },
  {
   "cell_type": "markdown",
   "id": "490f626f",
   "metadata": {},
   "source": [
    "range functions"
   ]
  },
  {
   "cell_type": "code",
   "execution_count": 88,
   "id": "321891b1",
   "metadata": {},
   "outputs": [
    {
     "name": "stdout",
     "output_type": "stream",
     "text": [
      "[1, 3, 5, 7, 9]\n"
     ]
    }
   ],
   "source": [
    "a = list(range(1,10,2))\n",
    "print(a)"
   ]
  },
  {
   "cell_type": "code",
   "execution_count": 94,
   "id": "38fecb0c",
   "metadata": {},
   "outputs": [
    {
     "name": "stdout",
     "output_type": "stream",
     "text": [
      "(0, 1)\n",
      "(1, 2)\n",
      "(2, 3)\n",
      "(3, 4)\n",
      "(4, 5)\n",
      "(5, 6)\n",
      "(6, 7)\n",
      "(7, 8)\n",
      "(8, 9)\n",
      "(9, 10)\n"
     ]
    }
   ],
   "source": [
    "x = [1,2,3,4,5,6,7,8,9,10]\n",
    "for  i in range(len(x)):\n",
    "    print((i,x[i]))"
   ]
  },
  {
   "cell_type": "code",
   "execution_count": 99,
   "id": "ce902ba2",
   "metadata": {},
   "outputs": [
    {
     "data": {
      "text/plain": [
       "[0, 1]"
      ]
     },
     "execution_count": 99,
     "metadata": {},
     "output_type": "execute_result"
    }
   ],
   "source": [
    "list(range(2))"
   ]
  },
  {
   "cell_type": "code",
   "execution_count": 106,
   "id": "46d47920",
   "metadata": {},
   "outputs": [
    {
     "name": "stdout",
     "output_type": "stream",
     "text": [
      "[0.0, 0.1, 0.2, 0.3, 0.4, 0.5, 0.6, 0.7, 0.8, 0.9, 1.0, 1.1, 1.2, 1.3, 1.4, 1.5, 1.6, 1.7, 1.8, 1.9, 2.0, 2.1, 2.2, 2.3, 2.4, 2.5, 2.6, 2.7, 2.8, 2.9, 3.0, 3.1, 3.2, 3.3, 3.4, 3.5, 3.6, 3.7, 3.8, 3.9, 4.0, 4.1, 4.2, 4.3, 4.4, 4.5, 4.6, 4.7, 4.8, 4.9, 5.0]\n"
     ]
    }
   ],
   "source": [
    "#0,0.1,0.2,0.3.......5\n",
    "a = list(range(51))\n",
    "b = []\n",
    "for i in a:\n",
    "    b.append(i/10)\n",
    "print(b)"
   ]
  },
  {
   "cell_type": "code",
   "execution_count": 109,
   "id": "809faca4",
   "metadata": {},
   "outputs": [
    {
     "data": {
      "text/plain": [
       "[0, 1, 2, 3]"
      ]
     },
     "execution_count": 109,
     "metadata": {},
     "output_type": "execute_result"
    }
   ],
   "source": [
    "list(range(0,4))"
   ]
  },
  {
   "cell_type": "code",
   "execution_count": 111,
   "id": "72f6b6d0",
   "metadata": {},
   "outputs": [
    {
     "data": {
      "text/plain": [
       "[10, 9, 8, 7, 6, 5, 4, 3]"
      ]
     },
     "execution_count": 111,
     "metadata": {},
     "output_type": "execute_result"
    }
   ],
   "source": [
    "list(range(10,2,-1))"
   ]
  },
  {
   "cell_type": "markdown",
   "id": "efd9a993",
   "metadata": {},
   "source": [
    "comprehensions"
   ]
  },
  {
   "cell_type": "code",
   "execution_count": 114,
   "id": "81e61a51",
   "metadata": {},
   "outputs": [
    {
     "name": "stdout",
     "output_type": "stream",
     "text": [
      "[0, 1, 2, 3, 4, 5, 6, 7, 8, 9, 10, 11, 12, 13, 14, 15, 16, 17, 18, 19, 20, 21, 22, 23, 24, 25, 26, 27, 28, 29, 30, 31, 32, 33, 34, 35, 36, 37, 38, 39, 40, 41, 42, 43, 44, 45, 46, 47, 48, 49, 50]\n"
     ]
    }
   ],
   "source": [
    "print(a)"
   ]
  },
  {
   "cell_type": "code",
   "execution_count": 117,
   "id": "140f8723",
   "metadata": {},
   "outputs": [
    {
     "name": "stdout",
     "output_type": "stream",
     "text": [
      "[0.0, 0.1, 0.2, 0.3, 0.4, 0.5, 0.6, 0.7, 0.8, 0.9, 1.0, 1.1, 1.2, 1.3, 1.4, 1.5, 1.6, 1.7, 1.8, 1.9, 2.0, 2.1, 2.2, 2.3, 2.4, 2.5, 2.6, 2.7, 2.8, 2.9, 3.0, 3.1, 3.2, 3.3, 3.4, 3.5, 3.6, 3.7, 3.8, 3.9, 4.0, 4.1, 4.2, 4.3, 4.4, 4.5, 4.6, 4.7, 4.8, 4.9, 5.0]\n"
     ]
    }
   ],
   "source": [
    "b = [i/10 for i in a]\n",
    "print(b)"
   ]
  },
  {
   "cell_type": "code",
   "execution_count": 122,
   "id": "bbe3cbd9",
   "metadata": {},
   "outputs": [
    {
     "name": "stdout",
     "output_type": "stream",
     "text": [
      "[0.0, 0.1, 0.2, 0.30000000000000004, 0.4, 0.5, 0.6000000000000001, 0.7000000000000001, 0.8, 0.9, 1.0, 1.1, 1.2000000000000002, 1.3, 1.4000000000000001, 1.5, 1.6, 1.7000000000000002, 1.8, 1.9000000000000001, 2.0, 2.1, 2.2, 2.3000000000000003, 2.4000000000000004, 2.5, 2.6, 2.7, 2.8000000000000003, 2.9000000000000004, 3.0, 3.1, 3.2, 3.3000000000000003, 3.4000000000000004, 3.5, 3.6, 3.7, 3.8000000000000003, 3.9000000000000004, 4.0, 4.1000000000000005, 4.2, 4.3, 4.4, 4.5, 4.6000000000000005, 4.7, 4.800000000000001, 4.9, 5.0]\n"
     ]
    }
   ],
   "source": [
    "c = [i*0.1 for i in a]\n",
    "print(c)"
   ]
  },
  {
   "cell_type": "code",
   "execution_count": 131,
   "id": "0eb11ddf",
   "metadata": {},
   "outputs": [
    {
     "name": "stdout",
     "output_type": "stream",
     "text": [
      "[2, 10, 18, 26, 34, 42, 50, 58, 66, 74, 82, 90, 98]\n"
     ]
    }
   ],
   "source": [
    "print([2*i for i in a if i%2 == 1 and i%4 == 1])"
   ]
  },
  {
   "cell_type": "code",
   "execution_count": 128,
   "id": "b8f2f6dc",
   "metadata": {},
   "outputs": [
    {
     "name": "stdout",
     "output_type": "stream",
     "text": [
      "[0.0, 2, 0.2, 6, 0.4, 10, 0.6, 14, 0.8, 18, 1.0, 22, 1.2, 26, 1.4, 30, 1.6, 34, 1.8, 38, 2.0, 42, 2.2, 46, 2.4, 50, 2.6, 54, 2.8, 58, 3.0, 62, 3.2, 66, 3.4, 70, 3.6, 74, 3.8, 78, 4.0, 82, 4.2, 86, 4.4, 90, 4.6, 94, 4.8, 98, 5.0]\n"
     ]
    }
   ],
   "source": [
    "print([2*i if i%2 == 1 else i/10  for i in a ])"
   ]
  },
  {
   "cell_type": "markdown",
   "id": "e117c959",
   "metadata": {},
   "source": [
    " file object lec11"
   ]
  },
  {
   "cell_type": "code",
   "execution_count": null,
   "id": "ee593c94",
   "metadata": {},
   "outputs": [],
   "source": []
  }
 ],
 "metadata": {
  "celltoolbar": "Raw Cell Format",
  "kernelspec": {
   "display_name": "Python 3 (ipykernel)",
   "language": "python",
   "name": "python3"
  },
  "language_info": {
   "codemirror_mode": {
    "name": "ipython",
    "version": 3
   },
   "file_extension": ".py",
   "mimetype": "text/x-python",
   "name": "python",
   "nbconvert_exporter": "python",
   "pygments_lexer": "ipython3",
   "version": "3.10.9"
  }
 },
 "nbformat": 4,
 "nbformat_minor": 5
}
